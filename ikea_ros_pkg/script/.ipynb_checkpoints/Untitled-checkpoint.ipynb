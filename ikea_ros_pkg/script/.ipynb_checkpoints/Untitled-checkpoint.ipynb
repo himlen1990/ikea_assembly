{
 "cells": [
  {
   "cell_type": "code",
   "execution_count": 1,
   "metadata": {
    "collapsed": true
   },
   "outputs": [],
   "source": [
    "from hsrb_interface import Robot\n",
    "import rospy\n",
    "from hsrb_interface import geometry\n"
   ]
  },
  {
   "cell_type": "code",
   "execution_count": null,
   "metadata": {
    "collapsed": true
   },
   "outputs": [],
   "source": [
    "robot = Robot()\n",
    "whole_body = robot.try_get('whole_body')\n",
    "#whole_body.impedance_config = 'placing'    \n",
    "whole_body.end_effector_frame = u'hand_palm_link'\n",
    "whole_body.linear_weight = 100.0\n",
    "whole_body.impedance_config = 'compliance_hard'\n",
    "#whole_body.move_end_effector_pose(geometry.pose(z=-0.023), 'hole_location')"
   ]
  },
  {
   "cell_type": "code",
   "execution_count": 32,
   "metadata": {
    "collapsed": true
   },
   "outputs": [],
   "source": [
    "whole_body.move_to_neutral()"
   ]
  },
  {
   "cell_type": "code",
   "execution_count": 31,
   "metadata": {
    "collapsed": false
   },
   "outputs": [],
   "source": [
    "whole_body.move_end_effector_pose(geometry.pose(z=-0.01,y=0.03), 'hole_location')\n",
    "whole_body.move_end_effector_pose(geometry.pose(x=-0.02), 'hole_location')"
   ]
  }
 ],
 "metadata": {
  "kernelspec": {
   "display_name": "Python 2",
   "language": "python",
   "name": "python2"
  },
  "language_info": {
   "codemirror_mode": {
    "name": "ipython",
    "version": 2
   },
   "file_extension": ".py",
   "mimetype": "text/x-python",
   "name": "python",
   "nbconvert_exporter": "python",
   "pygments_lexer": "ipython2",
   "version": "2.7.6"
  }
 },
 "nbformat": 4,
 "nbformat_minor": 0
}
